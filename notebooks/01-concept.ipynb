{
 "cells": [
  {
   "cell_type": "markdown",
   "id": "d581835e",
   "metadata": {},
   "source": [
    "# AgentWebSearch Concept"
   ]
  },
  {
   "cell_type": "code",
   "execution_count": 1,
   "id": "f7948676",
   "metadata": {},
   "outputs": [],
   "source": [
    "import sys\n",
    "\n",
    "sys.path.append(\"../src\")"
   ]
  },
  {
   "cell_type": "code",
   "execution_count": null,
   "id": "25a8defd",
   "metadata": {},
   "outputs": [
    {
     "data": {
      "text/plain": [
       "agentwebsearch.websearch.websearch.AgentWebSearch"
      ]
     },
     "execution_count": 2,
     "metadata": {},
     "output_type": "execute_result"
    }
   ],
   "source": [
    "from agentwebsearch import (\n",
    "    AgentWebSearch,\n",
    "    WebSearchRequest,\n",
    "    WebSearchResponse\n",
    ")\n",
    "from agentwebsearch.search.client import (\n",
    "    DefaultSearchClient,\n",
    "    SearchApiClient,\n",
    "    SearApiClient\n",
    ")\n",
    "from agentwebsearch.llm import OpenAIChatModel\n",
    "from agentwebsearch.embedding import OpenAIEmbeddingModel\n",
    "\n",
    "# Initialize the LLM and embedding model\n",
    "embedding_model = OpenAIEmbeddingModel(\n",
    "    model=\"text-embedding-3-large\",\n",
    "    api_key=\"YOUR_OPENAI_API_KEY\"\n",
    ")\n",
    "\n",
    "llm = OpenAIChatModel(\n",
    "    model=\"gpt-4o-mini\",\n",
    "    api_key=\"YOUR_OPENAI_API_KEY\",\n",
    "    temperature=0.0\n",
    ")\n",
    "\n",
    "search_client = DefaultSearchClient()\n",
    "\n",
    "websearch = AgentWebSearch(\n",
    "    search_client=search_client,\n",
    "    llm=llm,\n",
    "    embedding_model=embedding_model\n",
    ")\n",
    "\n",
    "req = WebSearchRequest(\n",
    "    \n",
    ")\n",
    "\n",
    "result: WebSearchResponse = websearch.execute(req)"
   ]
  },
  {
   "cell_type": "code",
   "execution_count": null,
   "id": "b6810a3e",
   "metadata": {},
   "outputs": [],
   "source": [
    "from agentwebsearch.mcp import AgentWebSearchFastMCP\n",
    "\n",
    "server = AgentWebSearchFastMCP(\n",
    "    websearch=websearch,\n",
    "    port=8000,\n",
    "    host=\"0.0.0.0\",\n",
    "    debug=True\n",
    ")\n",
    "\n",
    "server.run()"
   ]
  },
  {
   "cell_type": "code",
   "execution_count": 1,
   "id": "8b475858",
   "metadata": {},
   "outputs": [],
   "source": [
    "import googlesearch\n",
    "\n",
    "search = googlesearch.search(\"Python\")\n",
    "res = [s for s in search]"
   ]
  },
  {
   "cell_type": "code",
   "execution_count": 2,
   "id": "437baa8f",
   "metadata": {},
   "outputs": [
    {
     "data": {
      "text/plain": [
       "['https://www.python.org/',\n",
       " 'https://www.w3schools.com/python/',\n",
       " 'https://de.wikipedia.org/wiki/Python_(Programmiersprache)',\n",
       " 'https://x.com/ThePSF?ref_src=twsrc%5Egoogle%7Ctwcamp%5Eserp%7Ctwgr%5Eauthor',\n",
       " 'https://www.google.com/search?num=12',\n",
       " 'https://www.w3schools.com/python/python_intro.asp',\n",
       " 'https://en.wikipedia.org/wiki/Python_(programming_language)',\n",
       " 'https://github.com/python/cpython',\n",
       " 'https://developers.google.com/edu/python',\n",
       " 'https://pypi.org/']"
      ]
     },
     "execution_count": 2,
     "metadata": {},
     "output_type": "execute_result"
    }
   ],
   "source": [
    "res"
   ]
  }
 ],
 "metadata": {
  "kernelspec": {
   "display_name": "base",
   "language": "python",
   "name": "python3"
  },
  "language_info": {
   "codemirror_mode": {
    "name": "ipython",
    "version": 3
   },
   "file_extension": ".py",
   "mimetype": "text/x-python",
   "name": "python",
   "nbconvert_exporter": "python",
   "pygments_lexer": "ipython3",
   "version": "3.11.4"
  }
 },
 "nbformat": 4,
 "nbformat_minor": 5
}
