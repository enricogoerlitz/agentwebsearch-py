{
 "cells": [
  {
   "cell_type": "markdown",
   "id": "d581835e",
   "metadata": {},
   "source": [
    "# AgentWebSearch Concept"
   ]
  },
  {
   "cell_type": "code",
   "execution_count": 2,
   "id": "25a8defd",
   "metadata": {},
   "outputs": [],
   "source": [
    "import sys\n",
    "from dotenv import load_dotenv\n",
    "\n",
    "sys.path.append(\"../src\")\n",
    "load_dotenv(\"../.env\")\n",
    "\n",
    "import os\n",
    "from agentwebsearch import AgentWebSearch\n",
    "from agentwebsearch.websearch.request import WebSearchRequest, RequestQuery, RequestQueryMessage\n",
    "from agentwebsearch.search.client import DefaultSearchClient\n",
    "from agentwebsearch.webscraper import DefaultWebScraper\n",
    "from agentwebsearch.indexsearch import IndexType\n",
    "from agentwebsearch.llm import OpenAIChatModel\n",
    "from agentwebsearch.embedding import OpenAIEmbeddingModel\n",
    "\n",
    "# Load environment variables\n",
    "OPEN_AI_API_KEY = os.getenv(\"OPENAI_API_KEY\")\n",
    "AI_CHAT_MODEL_NAME = os.getenv(\"AI_CHAT_MODEL_NAME\", \"gpt-4o\")\n",
    "AI_EMBEDDING_MODEL_NAME = os.getenv(\"AI_EMBEDDING_MODEL_NAME\", \"text-embedding-3-large\")\n",
    "CHUNK_TOKEN_SIZE=int(os.getenv(\"AI_TEXT_CHUNK_TOKEN_SIZE\", 800)),\n",
    "CHUNK_OVERLAP_SIZE=int(os.getenv(\"AI_TEXT_CHUNK_OVERLAP_TOKEN_SIZE\", 100))\n",
    "\n",
    "\n",
    "# Initialize the LLM and embedding model\n",
    "embedding_model = OpenAIEmbeddingModel(\n",
    "    model=\"text-embedding-3-large\",\n",
    "    api_key=OPEN_AI_API_KEY\n",
    ")\n",
    "\n",
    "llm = OpenAIChatModel(\n",
    "    model=\"gpt-4o-mini\",\n",
    "    api_key=OPEN_AI_API_KEY,\n",
    "    temperature=0.7\n",
    ")\n",
    "\n",
    "search_client = DefaultSearchClient()\n",
    "scraper = DefaultWebScraper()\n",
    "\n",
    "websearch = AgentWebSearch(\n",
    "    search_client=search_client,\n",
    "    index_type=IndexType.HNSW,\n",
    "    scraper=scraper,\n",
    "    llm=llm,\n",
    "    embedding_model=embedding_model\n",
    ")"
   ]
  },
  {
   "cell_type": "code",
   "execution_count": 20,
   "id": "4b220d26",
   "metadata": {},
   "outputs": [
    {
     "name": "stderr",
     "output_type": "stream",
     "text": [
      "[21.07.2025 17:33:47,f] [INFO] _client.py HTTP Request: POST https://api.openai.com/v1/chat/completions \"HTTP/1.1 200 OK\"\n",
      "[21.07.2025 17:33:48,f] [INFO] _client.py HTTP Request: POST https://api.openai.com/v1/embeddings \"HTTP/1.1 200 OK\"\n",
      "[21.07.2025 17:33:48,f] [INFO] _client.py HTTP Request: POST https://api.openai.com/v1/embeddings \"HTTP/1.1 200 OK\"\n",
      "[21.07.2025 17:33:48,f] [INFO] _client.py HTTP Request: POST https://api.openai.com/v1/embeddings \"HTTP/1.1 200 OK\"\n",
      "[21.07.2025 17:33:48,f] [INFO] _client.py HTTP Request: POST https://api.openai.com/v1/embeddings \"HTTP/1.1 200 OK\"\n",
      "[21.07.2025 17:33:50,f] [INFO] _client.py HTTP Request: POST https://api.openai.com/v1/embeddings \"HTTP/1.1 200 OK\"\n"
     ]
    }
   ],
   "source": [
    "req = WebSearchRequest(\n",
    "    query=RequestQuery(\n",
    "        messages=[\n",
    "            RequestQueryMessage(\n",
    "                role=\"user\",\n",
    "                content=\"Wann wurde der Bundeskanzler 2025 gewählt?\"\n",
    "            )\n",
    "        ]\n",
    "    )\n",
    ")\n",
    "\n",
    "result = websearch.execute(req)\n",
    "result.results"
   ]
  },
  {
   "cell_type": "code",
   "execution_count": 21,
   "id": "686d9878",
   "metadata": {},
   "outputs": [
    {
     "data": {
      "text/plain": [
       "[[{'reference': 'https://de.wikipedia.org/wiki/Bundestagswahl_2025',\n",
       "   'text': 'Bundestagswahl 2025 – Wikipedia\\n\\n\\nZum Inhalt springen\\n\\n\\nSuche\\n\\n\\nSuchen\\n\\n\\nBundestagswahl 2025\\n\\n\\n45 Sprachen\\n\\n\\nAfrikaansAlemannischالعربيةAzərbaycancaБеларуская (тарашкевіца)CatalàکوردیČeštinaDanskΕλληνικάEnglishEsperantoEspañolEestiEuskaraفارسیSuomiFrançaisNordfriiskGaeilgeעבריתHrvatskiMagyarՀայերենBahasa IndonesiaItaliano日本語Қазақша한국어LietuviųNederlandsNorsk bokmålPolskiپنجابیPortuguêsRomânăРусскийSimple EnglishSlovenčinaShqipСрпски / srpskiSvenskaTürkçeУкраїнська中文\\n\\nLinks bearbeiten\\n\\n\\naus Wikipedia, der freien Enzyklopädie\\n\\n\\n← 2021Wahl zum 21. Bundestag 2025nächste →(Zweitstimmen)[1]\\xa0%3020100\\n28,520,816,411,68,84,984,31,53,0\\nUnionAfDSPDGrüneLinkeBSWFDPFWSonst.iGewinne und Verlusteim Vergleich zu 2021\\xa0%p\\xa012\\xa010\\xa0\\xa0\\xa08\\xa0\\xa0\\xa06\\xa0\\xa0\\xa04\\xa0\\xa0\\xa02\\xa0\\xa0\\xa00\\xa0\\xa0−2\\xa0\\xa0−4\\xa0\\xa0−6\\xa0\\xa0−8−10+4,4+10,4−9,3−3,1+3,9+4,98−7,1−0,9−3,3UnionAfDSPDGrüneLinkeBSWFDPFWSonst.Vorlage:Wahldiagramm/Wartung/AnmerkungenAnmerkungen:i darunter SSW 0,2\\xa0%, der von der Fünf-Prozent-Hürde befreit ist\\nSitzverteilung im 21. Bundestag\\n64\\n\\n120\\n\\n85\\n\\n1\\n\\n208\\n\\n152\\n64\\xa0120\\xa085\\xa01\\xa0208\\xa0152\\xa0\\nInsgesamt 630 Sitze \\n\\ufeffLinke: 64 \\n\\ufeffSPD: 120 \\n\\ufeffGrüne: 85 \\n\\ufeffSSW: 1 \\n\\ufeffUnion: 208 \\n\\ufeffAfD: 152 \\n\\n\\nVerhältnis Regierung-Opposition im21. Deutschen Bundestag\\n328\\n\\n302\\n328\\xa0302\\xa0\\nInsgesamt 630 Sitze \\n\\ufeffRegierung: 328 \\n\\ufeffOpposition: 302 \\n\\n\\nReichstagsgebäude (2024), Sitz des Deutschen Bundestages\\nBundestagswahlergebnisse und Koalitionen in Bundesregierungen seit 1949\\nMit der Wahl zum 21. Deutschen Bundestag wurde die Volksvertretung der Bundesrepublik Deutschland neu gewählt. Sie fand als vorgezogene Neuwahl am 23.\\xa0Februar 2025 statt. Voraussetzung für diesen Termin war die gescheiterte Vertrauensfrage von Bundeskanzler Olaf Scholz (SPD) vom 16. Dezember 2024, der vorgezogene Neuwahlen nach dem Bruch der Ampelkoalition am 6.\\xa0November 2024 angekündigt hatte. Am 27.\\xa0Dezember 2024 ordnete Bundespräsident Frank-Walter Steinmeier die Auflösung des Deutschen Bundestages und den Termin für die Neuwahl an. Als Termin für eine turnusmäßige Wahl war ursprünglich der 28.\\xa0September 2025 festgelegt.\\nDie Unionsparteien CDU und CSU mit Kanzlerkandidat Friedrich Merz erhielten bei der Wahl mit zusammen 28,5\\xa0% die meisten Zweitstimmen und konnten das Ergebnis im Vergleich zum historisch schlechtesten Ergebnis in der vorherigen Wahl um gut 4 Prozentpunkte steigern. An zweiter Stelle folgte die AfD, die ihren Stimmenanteil gegenüber der Vorwahl auf 20,8\\xa0% verdoppeln konnte. Die SPD um den erneuten Kanzlerkandidaten Scholz erlitt starke Verlust',\n",
       "   'query': 'Wahltermin Bundeskanzler 2025 in Deutschland',\n",
       "   'distance': 0.2970616817474365},\n",
       "  {'reference': 'https://de.wikipedia.org/wiki/Bundestagswahl_2025',\n",
       "   'text': ' an die CDU, 7 an die SPD (u.\\xa0a. Finanzen, Justiz und Verteidigung) und 3 an die CSU (u.\\xa0a. Inneres) gehen.[148]\\nBei der Wahl des Bundeskanzlers am 6.\\xa0Mai erhielt Friedrich Merz erst im zweiten Wahlgang die notwendige Mehrheit der Stimmen. Im ersten Wahlgang stimmten nur 310 Abgeordnete für ihn, notwendig waren jedoch mindestens 316 Ja-Stimmen. Im zweiten Wahlgang wurde er schließlich mit 325 Stimmen zum Bundeskanzler gewählt und führt somit das Kabinett Merz an. Damit der zweite Wahlgang noch am selben Tag stattfinden konnte, war zunächst eine Abweichung von der Geschäftsordnung des Deutschen Bundestages notwendig, die einer Zweidrittelmehrheit der Abgeordneten bedarf und nach einem gemeinsamen Antrag der Bundestagsfraktionen von Union, SPD, Bündnis 90/Die Grünen und Linken von allen Fraktionen unterstützt wurde.[149][150]\\n\\nSiehe auch[Bearbeiten | Quelltext bearbeiten]\\nListe der Mitglieder des Deutschen Bundestages (21. Wahlperiode)\\nGeschichte Deutschlands seit 1990#Regierung unter Friedrich Merz (seit 2025)\\nLiteratur[Bearbeiten | Quelltext bearbeiten]\\nFrank Decker: Nach dem Ende der Ampel. Erwägungen zu der vorgezogenen Bundestagswahl 2025 (online first). In: GWP – Gesellschaft. Wirtschaft. Politik. Band\\xa074, Nr.\\xa01, 13.\\xa0Januar 2025, S.\\xa01–14, doi:10.3224/gwp.v74i1.01 (budrich-journals.de).\\xa0\\nFrank Decker: Bundestagswahl 2025. In: Informationen zur politischen Bildung. Nr.\\xa0362. Bundeszentrale für politische Bildung, Bonn 2025 (bpb.de).\\xa0\\nWeblinks[Bearbeiten | Quelltext bearbeiten]\\n\\n\\nWeitere Inhalte in denSchwesterprojekten der Wikipedia:\\n\\n\\nCommons\\n\\n– Medieninhalte (Kategorie)\\n\\n\\nWiktionary\\n\\n– Wörterbucheinträge\\n\\n\\nWikinews\\n\\n– Nachrichten\\n\\n\\nWikidata\\n\\n– Wissensdatenbank\\n\\nBundeswahlleiterin: Wahl zum 21.\\xa0Deutschen Bundestag am 23. Februar 2025\\nDossier der Brandenburgischen Landeszentrale für politische Bildung\\nWahl-O-Mat – Plattform der Bundeszentrale für politische Bildung mit 38 Fragen und 29 Parteien\\nParteivergleich.eu – Wahlhilfe mit 25 Parteien und 87 Fragen zur Bundestagswahl\\nDeinWal zur Bundestagswahl 2025 – Vergleich mit dem Abstimmungsverhalten von acht Bundestagsparteien\\nDossier der Tagesschau zur Bundestagswahl 2025\\n\\nEinzelnachweise[Bearbeiten | Quelltext bearbeiten]\\n\\n↑ Ergebnisse Deutschland – Die Bundeswahlleiterin. Abgerufen am 14.\\xa0März 2025.\\xa0\\n\\n↑ Noch nicht Rekord: Bundestagswahl verzeichnet hohen Anstieg bei Wahlbeteiligung. 23.\\xa0Februar 2025, abgerufen am 23.\\xa0Februar 2025.\\xa0\\n\\n↑ Bundestagswahl 2025: Wahlbeteiligung steigt auf 83 bis 84 Prozent. In: Der Spiegel. 23.\\xa0Februar 2025, ISSN\\xa02195-1349 (spiegel.de [abgerufen am 23.\\xa0Februar 2025]).\\xa0\\n\\n↑ Ergebnisse Deutschland – Die Bundeswahlleiterin. Abgerufen am 24.\\xa0Februar 2025.\\xa0\\n\\n↑ Weniger Wähler: Stimmberechtigte bei Bundestagswahl sinken im Vergleich zu 2021, n-tv, 4. Dezember 2024: „Im Bundesgebiet sind aktuell mindestens 59,2 Millionen Deutsche wahlberechtigt, wie das Statistische Bundesamt am Mittwoch schätzte. 2021 waren es noch rund 61,2 Millionen Personen. ‚Die Differenz geht vor allem auf die demografische Entwicklung zurück‘, hieß es zur Begründung.“\\n\\n↑ Bundestagswahl 2021: Erststimmen Prozente, bundeswahlleiterin.de, abgerufen am 25. Februar 2025\\n\\n↑ Bundestagswahl 2025: Erststimmen Prozente, bundeswahlleiterin.de, abgerufen am 25. Februar 2025\\n\\n↑ Bundestagswahl 2025: Endgültiges Ergebnis. In: bundeswahlleiterin.de. 14.\\xa0März 2025, abgerufen am 14.\\xa0März 2025.\\xa0\\n\\n↑ Kabinett empfiehlt 28. September als Wahltag. In: Tagesschau. 24.\\xa0Juli 2024, abgerufen am 24.\\xa0Juli 2024.\\xa0\\n\\n↑ Bundespräsident Steinmeier fertigt Anordnung über Bundestagswahl aus.',\n",
       "   'query': 'Wahltermin Bundeskanzler 2025 in Deutschland',\n",
       "   'distance': 0.2995859384536743},\n",
       "  {'reference': 'https://www.wahlrecht.de/termine.htm',\n",
       "   'text': 'Wahltermine in Deutschland (2025, 2026 usw.)\\n\\n\\nWahltermine\\n[Startseite]\\n\\nDie nächsten Wahlen in Deutschland:\\n\\n\\nJahr\\nTermin\\nBundesland\\nOrgan(e)\\nWahl-periode\\n\\n\\nLegende:\\n – Voraussichtlicher Zeitraum der Wahl (Vorgabe durch Verfassung/Gesetz, Beginn/Ende nur Sonntage in ferienfreier Zeit – zu Abweichungen siehe die verlinkten Hinweise)\\n – Angestrebter Termin (durch formell bzw. faktisch den Termin bestimmende Fraktionen, Parteien bzw. Exekutive)\\n – Noch nicht formell bestätigter Termin (etwa bei evtl. noch notwendigem formellen Beschluss der Exekutive oder der Legislative)\\n\\n\\n\\xa0\\n\\xa0\\n\\xa0\\n\\xa0\\n\\xa0\\n\\n\\n2025\\n23. Februar (mehr dazu …)\\nalle Bundesländer\\nBundestag\\n4 Jahre\\n\\n\\n\\xa0\\n2. März\\nHamburg\\nBürgerschaft\\n5 Jahre\\n\\n\\n\\xa0\\n14. September\\nNordrhein-Westfalen\\nKreistage, Stadträte, Gemeinderäte, Bezirksvertretungen,Ruhrparlament (Regionalverband Ruhr)\\n5 Jahre\\n\\n\\n\\xa0\\n\\xa0\\n\\xa0\\n\\xa0\\n\\xa0\\n\\n\\n2026\\n8. März 2026\\nBayern\\nKreistage, Stadträte, Gemeinderäte\\n6 Jahre\\n\\n\\n\\xa0\\n8. März 2026\\nBaden-Württemberg\\nLandtag\\n5 Jahre\\n\\n\\n15. März 2026\\nHessen\\nKreistage, Stadtverordnetenversammlungen,Gemeindevertretungen, Ortsbeiräte\\n5 Jahre\\n\\n\\n\\xa0\\n22. März 2026\\nRheinland-Pfalz\\nLandtag\\n5 Jahre\\n\\n\\n\\xa0\\n6. September 2026\\nSachsen-Anhalt\\nLandtag\\n5 Jahre\\n\\n\\n\\xa0\\n13. September 2026\\nNiedersachsen\\nKreistage, Stadträte, Gemeinderäte, Samtgemeinderäte,Stadtbezirksräte, Ortsräte, Regionsversammlung (Hannover)\\n5 Jahre\\n\\n\\n\\xa0\\n20. September 2026\\nBerlin\\nAbgeordnetenhaus, Bezirksverordnetenversammlungen\\n5 Jahre\\n\\n\\n\\xa0\\nHerbst\\nMecklenburg-Vorpommern\\nLandtag\\n5 Jahre\\n\\n\\n\\xa0\\n\\xa0\\n\\xa0\\n\\xa0\\n\\xa0\\n\\n\\n2027\\nFrühjahr\\n18.\\xa0Bundesversammlung\\nBundespräsidentenwahl\\n5 Jahre\\n\\n\\n\\xa0\\nFrühjahr\\nSaarland\\nLandtag\\n5 Jahre\\n\\n\\n\\xa0\\nFrühjahr\\nBremen\\nBürgerschaft (Landtag), Stadtbürgerschaft und Beiräte(Bremen), Stadtverordnetenversammlung (Bremerhaven)\\n4 Jahre\\n\\n\\n\\xa0\\nFrühjahr\\nSchleswig-Holstein\\nLandtag\\n5 Jahre\\n\\n\\n\\xa0\\nFrühjahr\\nNordrhein-Westfalen\\nLandtag\\n5 Jahre\\n\\n\\n\\xa0\\nHerbst\\nNiedersachsen\\nLandtag\\n5 Jahre\\n\\n\\n\\xa0\\n\\xa0\\n\\xa0\\n\\xa0\\n\\xa0\\n\\n\\n2028\\nFrühjahr\\nSchleswig-Holstein\\nKreistage, Stadtvertretungen, Gemeindevertretungen\\n5 Jahre\\n\\n\\n\\xa0\\nHerbst\\nBayern\\nLandtag, Bezirkstage\\n5 Jahre\\n\\n\\n\\xa0\\nHerbst\\nHessen\\nLandtag\\n5 Jahre\\n\\n\\n\\xa0\\n\\xa0\\n\\xa0\\n\\xa0\\n\\xa0\\n\\n\\n2029\\nWinter\\nalle Bundesländer\\nBundestag\\n4 Jahre\\n\\n\\n\\xa0\\nFrühjahr\\nalle Bundesländer\\nEuropäisches Parlament\\n5 Jahre\\n\\n\\n\\xa0\\nFrühjahr\\nBaden-Württemberg\\nKreistage, Gemeinderäte, Bezirksbeiräte, Ortschaftsräte,Regionalversammlung (Stuttgart)\\n5 Jahre\\n\\n\\n\\xa0\\nFrühjahr\\nBrandenburg\\nKreistage, Stadtverordnetenversammlungen,Gemeindevertretungen, Ortsbeiräte\\n5 Jahre\\n\\n\\n\\xa0\\nFrühjahr\\nHamburg\\nBezirksversammlungen\\n5 Jahre\\n\\n\\n\\xa0\\nFrühjahr\\nMecklenburg-Vorpommern\\nKreistage, Stadtvertretungen, Gemeindevertretungen\\n5 Jahre\\n\\n\\n\\xa0\\nFrühjahr\\nRheinland-Pfalz\\nKreistage, Gemeinderäte, Verbandsgemeinderäte,Ortsbeiräte, Bezirk',\n",
       "   'query': 'Wahltermin Bundeskanzler 2025 in Deutschland',\n",
       "   'distance': 0.31208693981170654}]]"
      ]
     },
     "execution_count": 21,
     "metadata": {},
     "output_type": "execute_result"
    }
   ],
   "source": [
    "result.results"
   ]
  },
  {
   "cell_type": "code",
   "execution_count": null,
   "id": "b6810a3e",
   "metadata": {},
   "outputs": [],
   "source": [
    "from agentwebsearch.mcp import AgentWebSearchFastMCP\n",
    "\n",
    "server = AgentWebSearchFastMCP(\n",
    "    websearch=websearch,\n",
    "    port=8000,\n",
    "    host=\"0.0.0.0\",\n",
    "    debug=True\n",
    ")\n",
    "\n",
    "server.run()"
   ]
  },
  {
   "cell_type": "code",
   "execution_count": 1,
   "id": "8b475858",
   "metadata": {},
   "outputs": [],
   "source": [
    "import googlesearch\n",
    "\n",
    "search = googlesearch.search(\"Python\")\n",
    "res = [s for s in search]"
   ]
  },
  {
   "cell_type": "code",
   "execution_count": 2,
   "id": "437baa8f",
   "metadata": {},
   "outputs": [
    {
     "data": {
      "text/plain": [
       "['https://www.python.org/',\n",
       " 'https://www.w3schools.com/python/',\n",
       " 'https://de.wikipedia.org/wiki/Python_(Programmiersprache)',\n",
       " 'https://x.com/ThePSF?ref_src=twsrc%5Egoogle%7Ctwcamp%5Eserp%7Ctwgr%5Eauthor',\n",
       " 'https://www.google.com/search?num=12',\n",
       " 'https://www.w3schools.com/python/python_intro.asp',\n",
       " 'https://en.wikipedia.org/wiki/Python_(programming_language)',\n",
       " 'https://github.com/python/cpython',\n",
       " 'https://developers.google.com/edu/python',\n",
       " 'https://pypi.org/']"
      ]
     },
     "execution_count": 2,
     "metadata": {},
     "output_type": "execute_result"
    }
   ],
   "source": [
    "res"
   ]
  }
 ],
 "metadata": {
  "kernelspec": {
   "display_name": "base",
   "language": "python",
   "name": "python3"
  },
  "language_info": {
   "codemirror_mode": {
    "name": "ipython",
    "version": 3
   },
   "file_extension": ".py",
   "mimetype": "text/x-python",
   "name": "python",
   "nbconvert_exporter": "python",
   "pygments_lexer": "ipython3",
   "version": "3.11.4"
  }
 },
 "nbformat": 4,
 "nbformat_minor": 5
}
